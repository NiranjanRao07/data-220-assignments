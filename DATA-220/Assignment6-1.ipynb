{
 "cells": [
  {
   "cell_type": "markdown",
   "id": "5f151b26-e3cd-4486-b292-cad5936e6ea4",
   "metadata": {},
   "source": [
    "## Assignment 6\n",
    "1) Fill in the function \"plot_std_normal_with_probability()\" to draw the standard normal distribution curve.\n"
   ]
  },
  {
   "cell_type": "code",
   "execution_count": 48,
   "id": "915643f8-55a0-456e-a697-22832e84de4f",
   "metadata": {
    "tags": []
   },
   "outputs": [],
   "source": [
    "import numpy as np\n",
    "import matplotlib.pyplot as plt\n",
    "from scipy.stats import norm"
   ]
  },
  {
   "cell_type": "code",
   "execution_count": 49,
   "id": "6a50ede4-4b4d-4c3b-8559-1e599c9dc793",
   "metadata": {},
   "outputs": [],
   "source": [
    "def plot_std_normal_with_probability(title, x, interval_1):\n",
    "    \"\"\"\n",
    "    Plot the standard normal curve with a filled-in area under\n",
    "    the curve within one or two intervals of the x values.\n",
    "    @param title the title of the graph.\n",
    "    @param x the range of x values to graph.\n",
    "    @param interval_1 one interval of the range.\n",
    "    \"\"\"\n"
   ]
  },
  {
   "cell_type": "code",
   "execution_count": 50,
   "id": "cb58143b-6d9e-44d3-a05d-58c68694264b",
   "metadata": {},
   "outputs": [],
   "source": [
    "x = np.arange(-3, 3, 0.01)\n"
   ]
  },
  {
   "cell_type": "code",
   "execution_count": 51,
   "id": "1fa1b48e-240a-47c3-8a07-7f154671ea66",
   "metadata": {},
   "outputs": [],
   "source": [
    "z0 = -0.75\n",
    "p = norm.cdf(z0)\n",
    "plot_std_normal_with_probability(f'P(z < {z0}) = {p:.4f}', x, x < z0)"
   ]
  },
  {
   "cell_type": "markdown",
   "id": "cb5d7282",
   "metadata": {},
   "source": [
    "2) Use norm.cdf() and plot_std_normal_with_probability() to draw the standard normal distribution in the following area and draw the corresponding graph in Python.\n",
    "P(-0.75 < z < 1.5) = 0.7066"
   ]
  },
  {
   "cell_type": "code",
   "execution_count": null,
   "id": "db8ed8a5",
   "metadata": {},
   "outputs": [],
   "source": []
  },
  {
   "cell_type": "code",
   "execution_count": null,
   "id": "d079fd19",
   "metadata": {},
   "outputs": [],
   "source": []
  }
 ],
 "metadata": {
  "kernelspec": {
   "display_name": "Python 3",
   "language": "python",
   "name": "python3"
  },
  "language_info": {
   "codemirror_mode": {
    "name": "ipython",
    "version": 3
   },
   "file_extension": ".py",
   "mimetype": "text/x-python",
   "name": "python",
   "nbconvert_exporter": "python",
   "pygments_lexer": "ipython3",
   "version": "3.8.8"
  }
 },
 "nbformat": 4,
 "nbformat_minor": 5
}
