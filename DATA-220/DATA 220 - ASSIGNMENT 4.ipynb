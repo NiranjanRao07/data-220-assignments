{
 "cells": [
  {
   "cell_type": "code",
   "execution_count": 2,
   "metadata": {},
   "outputs": [
    {
     "name": "stdout",
     "output_type": "stream",
     "text": [
      "Probability of having the disease given a positive test (under 50): 0.2794\n",
      "Probability of having the disease given a positive test (over 50): 0.6102\n"
     ]
    }
   ],
   "source": [
    "import numpy as np\n",
    "\n",
    "def calculate_probability_given_positive(p_disease, test_accuracy, false_positive_rate):\n",
    "    p_positive_test = (test_accuracy * p_disease) + (false_positive_rate * (1 - p_disease))\n",
    "    p_disease_given_positive = (test_accuracy * p_disease) / p_positive_test\n",
    "    \n",
    "    return p_disease_given_positive\n",
    "\n",
    "prevalence_under_50 = 0.02  \n",
    "prevalence_over_50 = 0.08   \n",
    "\n",
    "accuracy_under_50 = 0.95  \n",
    "accuracy_over_50 = 0.90   \n",
    "\n",
    "false_positive_rate = 0.05  \n",
    "\n",
    "probability_under_50 = calculate_probability_given_positive(prevalence_under_50, accuracy_under_50, false_positive_rate)\n",
    "probability_over_50 = calculate_probability_given_positive(prevalence_over_50, accuracy_over_50, false_positive_rate)\n",
    "\n",
    "print(f\"Probability of having the disease given a positive test (under 50): {probability_under_50:.4f}\")\n",
    "print(f\"Probability of having the disease given a positive test (over 50): {probability_over_50:.4f}\")\n"
   ]
  },
  {
   "cell_type": "code",
   "execution_count": 5,
   "metadata": {},
   "outputs": [
    {
     "name": "stdout",
     "output_type": "stream",
     "text": [
      "Probability of actual rain given the forecast predicts rain: 0.3684\n"
     ]
    }
   ],
   "source": [
    "def prob_rain_given_forecast(p_rain, forecast_accuracy, false_alarm_rate):\n",
    "    p_forecast_rain = (forecast_accuracy * p_rain) + (false_alarm_rate * (1 - p_rain))\n",
    "    p_rain_given_forecast = (forecast_accuracy * p_rain) / p_forecast_rain\n",
    "    return p_rain_given_forecast\n",
    "\n",
    "p_rain = 0.20\n",
    "forecast_accuracy = 0.70\n",
    "false_alarm_rate = 0.30\n",
    "\n",
    "probability_rain = prob_rain_given_forecast(p_rain, forecast_accuracy, false_alarm_rate)\n",
    "\n",
    "print(f\"Probability of actual rain given the forecast predicts rain: {probability_rain:.4f}\")\n"
   ]
  }
 ],
 "metadata": {
  "kernelspec": {
   "display_name": "base",
   "language": "python",
   "name": "python3"
  },
  "language_info": {
   "codemirror_mode": {
    "name": "ipython",
    "version": 3
   },
   "file_extension": ".py",
   "mimetype": "text/x-python",
   "name": "python",
   "nbconvert_exporter": "python",
   "pygments_lexer": "ipython3",
   "version": "3.12.4"
  }
 },
 "nbformat": 4,
 "nbformat_minor": 2
}
