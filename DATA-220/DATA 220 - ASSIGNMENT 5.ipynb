{
 "cells": [
  {
   "cell_type": "markdown",
   "id": "7b2bae31",
   "metadata": {},
   "source": [
    "## Assignments for Probability 2"
   ]
  },
  {
   "cell_type": "markdown",
   "id": "55f0a520",
   "metadata": {},
   "source": [
    "### A 1"
   ]
  },
  {
   "cell_type": "markdown",
   "id": "e850ea4f",
   "metadata": {},
   "source": [
    "A fair coin is flipped 10 times. What is the probability of getting exactly 6 heads?"
   ]
  },
  {
   "cell_type": "code",
   "execution_count": 1,
   "id": "31d13c98",
   "metadata": {},
   "outputs": [
    {
     "name": "stdout",
     "output_type": "stream",
     "text": [
      "The probability of getting exactly 6 heads is: 0.2050781249999999\n"
     ]
    }
   ],
   "source": [
    "# Write your solution code here\n",
    "# You can use scipy.stats.binom to create binomial distribution objects\n",
    "# For example:\n",
    "# from scipy.stats import binom\n",
    "# binom.pmf(k, n, p)\n",
    "from scipy.stats import binom\n",
    "\n",
    "n = 10  \n",
    "k = 6   \n",
    "p = 0.5 \n",
    "\n",
    "probability = binom.pmf(k, n, p)\n",
    "print(f\"The probability of getting exactly 6 heads is: {probability}\")"
   ]
  },
  {
   "cell_type": "markdown",
   "id": "da1d378a",
   "metadata": {},
   "source": [
    "### A 2"
   ]
  },
  {
   "cell_type": "markdown",
   "id": "0ca7c9ae",
   "metadata": {},
   "source": [
    "Assume that 45% of the population has brown eyes. If 12 people are randomly selected, what is the probability that exactly 5 of them have brown eyes?"
   ]
  },
  {
   "cell_type": "code",
   "execution_count": 3,
   "id": "6c05d3d9",
   "metadata": {},
   "outputs": [
    {
     "name": "stdout",
     "output_type": "stream",
     "text": [
      "The probability that exactly 5 out of 12 people have brown eyes is: 0.2224982384326581\n"
     ]
    }
   ],
   "source": [
    "# Write your solution code here\n",
    "# You can use scipy.stats.binom to create binomial distribution objects\n",
    "# For example:\n",
    "# from scipy.stats import binom\n",
    "# binom.pmf(k, n, p)\n",
    "from scipy.stats import binom\n",
    "\n",
    "\n",
    "n = 12   \n",
    "k = 5    \n",
    "p = 0.45\n",
    "\n",
    "probability = binom.pmf(k, n, p)\n",
    "print(f\"The probability that exactly 5 out of 12 people have brown eyes is: {probability}\")"
   ]
  },
  {
   "cell_type": "code",
   "execution_count": null,
   "id": "40536dc6-1c4d-446c-85ac-3d817f0fccb8",
   "metadata": {},
   "outputs": [],
   "source": []
  }
 ],
 "metadata": {
  "kernelspec": {
   "display_name": "Python 3 (ipykernel)",
   "language": "python",
   "name": "python3"
  },
  "language_info": {
   "codemirror_mode": {
    "name": "ipython",
    "version": 3
   },
   "file_extension": ".py",
   "mimetype": "text/x-python",
   "name": "python",
   "nbconvert_exporter": "python",
   "pygments_lexer": "ipython3",
   "version": "3.12.4"
  }
 },
 "nbformat": 4,
 "nbformat_minor": 5
}
