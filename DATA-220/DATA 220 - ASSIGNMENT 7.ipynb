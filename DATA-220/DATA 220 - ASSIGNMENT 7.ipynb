{
 "cells": [
  {
   "cell_type": "code",
   "execution_count": 1,
   "id": "9b11ec36-4fd3-439e-9677-a08c11afe45c",
   "metadata": {},
   "outputs": [],
   "source": [
    "import numpy as np\n",
    "\n",
    "# Given matrix A\n",
    "A = np.array([\n",
    "    [4, -2, 2, 1],\n",
    "    [1, 1, 0, 1],\n",
    "    [-2, 1, 3, -1],\n",
    "    [1, 3, -1, 2]\n",
    "])"
   ]
  },
  {
   "cell_type": "code",
   "execution_count": 3,
   "id": "053e2681-b9f0-41fb-a143-b659d5f3371e",
   "metadata": {},
   "outputs": [
    {
     "name": "stdout",
     "output_type": "stream",
     "text": [
      "Inverse of A:\n",
      " [[ 5.00000000e+00 -3.00000000e+01  1.00000000e+00  1.30000000e+01]\n",
      " [ 4.00000000e+00 -2.50000000e+01  1.00000000e+00  1.10000000e+01]\n",
      " [-1.00000000e+00  7.00000000e+00  5.82867088e-16 -3.00000000e+00]\n",
      " [-9.00000000e+00  5.60000000e+01 -2.00000000e+00 -2.40000000e+01]]\n"
     ]
    }
   ],
   "source": [
    "A_inv = np.linalg.inv(A)\n",
    "print(\"Inverse of A:\\n\", A_inv)"
   ]
  },
  {
   "cell_type": "code",
   "execution_count": 5,
   "id": "9f95c011-b9d5-485b-a64e-eb992cf9fda6",
   "metadata": {},
   "outputs": [
    {
     "name": "stdout",
     "output_type": "stream",
     "text": [
      "\n",
      "Eigenvalues:\n",
      " [-0.02231724+0.j          3.6104532 +1.72034086j  3.6104532 -1.72034086j\n",
      "  2.80141085+0.j        ]\n",
      "\n",
      "Eigenvectors:\n",
      " [[-0.43676159+0.j          0.57598271+0.j          0.57598271-0.j\n",
      "   0.26748859+0.j        ]\n",
      " [-0.36900111+0.j          0.00962337-0.2105225j   0.00962337+0.2105225j\n",
      "  -0.34893941+0.j        ]\n",
      " [ 0.10239683+0.j         -0.00821729+0.55142262j -0.00821729-0.55142262j\n",
      "  -0.06120796+0.j        ]\n",
      " [ 0.81399778+0.j         -0.18869091-0.53300366j -0.18869091+0.53300366j\n",
      "  -0.89607183+0.j        ]]\n"
     ]
    }
   ],
   "source": [
    "eigenvalues, eigenvectors = np.linalg.eig(A)\n",
    "print(\"\\nEigenvalues:\\n\", eigenvalues)\n",
    "print(\"\\nEigenvectors:\\n\", eigenvectors)"
   ]
  },
  {
   "cell_type": "code",
   "execution_count": 7,
   "id": "08d675fc-f505-48e2-b762-c9e7b5af8f57",
   "metadata": {},
   "outputs": [
    {
     "name": "stdout",
     "output_type": "stream",
     "text": [
      "\n",
      "Matrix P (Eigenvectors):\n",
      " [[-0.43676159+0.j          0.57598271+0.j          0.57598271-0.j\n",
      "   0.26748859+0.j        ]\n",
      " [-0.36900111+0.j          0.00962337-0.2105225j   0.00962337+0.2105225j\n",
      "  -0.34893941+0.j        ]\n",
      " [ 0.10239683+0.j         -0.00821729+0.55142262j -0.00821729-0.55142262j\n",
      "  -0.06120796+0.j        ]\n",
      " [ 0.81399778+0.j         -0.18869091-0.53300366j -0.18869091+0.53300366j\n",
      "  -0.89607183+0.j        ]]\n",
      "\n",
      "Diagonal Matrix D (Eigenvalues):\n",
      " [[-0.02231724+0.j          0.        +0.j          0.        +0.j\n",
      "   0.        +0.j        ]\n",
      " [ 0.        +0.j          3.6104532 +1.72034086j  0.        +0.j\n",
      "   0.        +0.j        ]\n",
      " [ 0.        +0.j          0.        +0.j          3.6104532 -1.72034086j\n",
      "   0.        +0.j        ]\n",
      " [ 0.        +0.j          0.        +0.j          0.        +0.j\n",
      "   2.80141085+0.j        ]]\n",
      "\n",
      "Inverse of Matrix P:\n",
      " [[ 0.24293955+0.00000000e+00j -1.52243125+6.81957034e-17j\n",
      "   0.05807612+1.36391407e-16j  0.66140356-6.81957034e-17j]\n",
      " [ 1.00207027+1.76334426e-02j -0.26464982-6.27009101e-02j\n",
      "   0.2698955 -8.46128808e-01j  0.38375201+8.74766701e-02j]\n",
      " [ 1.00207027-1.76334426e-02j -0.26464982+6.27009101e-02j\n",
      "   0.2698955 +8.46128808e-01j  0.38375201-8.74766701e-02j]\n",
      " [-0.18035771-0.00000000e+00j -1.34612117-0.00000000e+00j\n",
      "  -1.06750294+2.75134487e-17j -0.57270992-7.47247360e-17j]]\n"
     ]
    }
   ],
   "source": [
    "P = eigenvectors\n",
    "D = np.diag(eigenvalues)\n",
    "P_inv = np.linalg.inv(P)\n",
    "\n",
    "print(\"\\nMatrix P (Eigenvectors):\\n\", P)\n",
    "print(\"\\nDiagonal Matrix D (Eigenvalues):\\n\", D)\n",
    "print(\"\\nInverse of Matrix P:\\n\", P_inv)"
   ]
  },
  {
   "cell_type": "markdown",
   "id": "534a5138-f710-42fd-951a-86508ab13953",
   "metadata": {},
   "source": [
    "### Explanation of Diagonalization Importance\r\n",
    "\r\n",
    "In linear algebra, diagonalizing a matrix simplifies many computations, especially when raising a matrix to a power. A diagonalized matrix represents the system in a simpler form, where each eigenvalue indicates an invariant direction of transformation. This is valuable for understanding the matrix's stability and the long-term behavior of systems.\r\n",
    "\r\n",
    "Diagonalization also reveals insights into the system's properties, such as:\r\n",
    "\r\n",
    "- **Stability**: Eigenvalues can indicate stability in dynamical systems.\r\n",
    "- **Matrix powers**: Calculating powers of a diagonal matrix is straightforward, which is useful in various applications.\r\n",
    "\r\n",
    "Thus, diagonalization is a powerful tool in linear algebra and applicable across fields like physics, engineering, and machine learning.\r\n"
   ]
  },
  {
   "cell_type": "code",
   "execution_count": 14,
   "id": "f1f45c7d-80d6-4410-a892-e795f7dd528f",
   "metadata": {},
   "outputs": [
    {
     "name": "stdout",
     "output_type": "stream",
     "text": [
      "\n",
      "Reconstructed Matrix A (using SVD):\n",
      " [[ 4.00000000e+00 -2.00000000e+00  2.00000000e+00  1.00000000e+00]\n",
      " [ 1.00000000e+00  1.00000000e+00 -7.77156117e-16  1.00000000e+00]\n",
      " [-2.00000000e+00  1.00000000e+00  3.00000000e+00 -1.00000000e+00]\n",
      " [ 1.00000000e+00  3.00000000e+00 -1.00000000e+00  2.00000000e+00]]\n"
     ]
    }
   ],
   "source": [
    "U, sigma, Vt = np.linalg.svd(A)\n",
    "Sigma = np.zeros((A.shape[0], A.shape[1]))\n",
    "np.fill_diagonal(Sigma, sigma)\n",
    "\n",
    "A_reconstructed = U @ Sigma @ Vt\n",
    "print(\"\\nReconstructed Matrix A (using SVD):\\n\", A_reconstructed)"
   ]
  },
  {
   "cell_type": "code",
   "execution_count": null,
   "id": "6787c7be-4115-447f-90d8-05412efa2a52",
   "metadata": {},
   "outputs": [],
   "source": []
  }
 ],
 "metadata": {
  "kernelspec": {
   "display_name": "Python 3 (ipykernel)",
   "language": "python",
   "name": "python3"
  },
  "language_info": {
   "codemirror_mode": {
    "name": "ipython",
    "version": 3
   },
   "file_extension": ".py",
   "mimetype": "text/x-python",
   "name": "python",
   "nbconvert_exporter": "python",
   "pygments_lexer": "ipython3",
   "version": "3.12.4"
  }
 },
 "nbformat": 4,
 "nbformat_minor": 5
}
